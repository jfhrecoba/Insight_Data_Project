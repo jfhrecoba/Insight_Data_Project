{
 "cells": [
  {
   "cell_type": "code",
   "execution_count": 2,
   "metadata": {
    "collapsed": false,
    "deletable": true,
    "editable": true
   },
   "outputs": [],
   "source": [
    "from bs4 import BeautifulSoup\n",
    "#from time import sleep\n",
    "import urllib3\n",
    "import requests\n",
    "import re\n",
    "import json\n",
    "from scrape_shopbop import find_colors, find_image, find_price, find_description, find_title, parse_html\n",
    "\n",
    "def scrape_one_webpage(url):\n",
    "    localHome = \"/Users/saraszczepanski\"\n",
    "    ec2home = \"/home/ec2-user\"\n",
    "    home = localHome\n",
    "    \n",
    "    outputFilename = \"url_out\"\n",
    "    \n",
    "    #price_re = re.compile('\\$[0-9]+\\.[0-9]{2}')\n",
    "    price_re = re.compile('\\$[0-9]{1,3}(?:,?[0-9]{3})*\\.[0-9]{2}')\n",
    "    \n",
    "    \n",
    "    with open('{}/workspace/insight_project/data/{}'.format(home, outputFilename), 'w') as out:\n",
    "        out.write('[')\n",
    "        soup = parse_html(url)\n",
    "        colors = find_colors(soup)\n",
    "        image = find_image(soup)\n",
    "        price = find_price(soup)\n",
    "        description = find_description(soup)\n",
    "        title = find_title(soup)  \n",
    "        for color in colors:\n",
    "            item_dict = {}\n",
    "            item_dict['url'] = url\n",
    "            item_dict['color'] = color\n",
    "            item_dict['image'] = image\n",
    "            item_dict['price'] = price\n",
    "            item_dict['description'] = description\n",
    "            item_dict['title'] = title\n",
    "            json.dump(item_dict, out)\n",
    "            #out.write(',')\n",
    "            #out.flush()\n",
    "            #sleep(1)\n",
    "            out.write(']')\n",
    "    return item_dict "
   ]
  },
  {
   "cell_type": "code",
   "execution_count": 4,
   "metadata": {
    "collapsed": false,
    "deletable": true,
    "editable": true
   },
   "outputs": [],
   "source": [
    "item_to_find = scrape_one_webpage('https://www.shopbop.com/crew-neck-cardigan-marc-jacobs/vp/v=1/1592123598.htm?folderID=45401&fm=other-shopbysize-viewall&os=false&colorId=12688')\n"
   ]
  },
  {
   "cell_type": "code",
   "execution_count": 5,
   "metadata": {
    "collapsed": false
   },
   "outputs": [
    {
     "name": "stdout",
     "output_type": "stream",
     "text": [
      "{'url': 'https://www.shopbop.com/crew-neck-cardigan-marc-jacobs/vp/v=1/1592123598.htm?folderID=45401&fm=other-shopbysize-viewall&os=false&colorId=12688', 'color': 'Beige', 'image': 'https://images-na.ssl-images-amazon.com/images/G/01/Shopbop/p/prod/products/mjadb/mjadb3185012688/mjadb3185012688_q1_2-0._QL90_UX336_.jpg', 'price': '$475.00', 'description': 'This lightweight Marc Jacobs cardigan is detailed with a scalloped pattern and finished with ribbed edges. Prismatic, heart-shaped buttons secure the placket.\\nFabric: Patterned knit.\\n100% cashmere.\\nDry clean.\\nImported, China.\\nMeasurements\\nLength: 21.25in / 54cm, from shoulder\\nMeasurements from size S', 'title': 'Marc Jacobs Cashmere Crew Neck Cardigan'}\n"
     ]
    }
   ],
   "source": [
    "print(item_to_find)"
   ]
  },
  {
   "cell_type": "code",
   "execution_count": null,
   "metadata": {
    "collapsed": true
   },
   "outputs": [],
   "source": []
  }
 ],
 "metadata": {
  "kernelspec": {
   "display_name": "Python 3",
   "language": "python",
   "name": "python3"
  },
  "language_info": {
   "codemirror_mode": {
    "name": "ipython",
    "version": 3
   },
   "file_extension": ".py",
   "mimetype": "text/x-python",
   "name": "python",
   "nbconvert_exporter": "python",
   "pygments_lexer": "ipython3",
   "version": "3.6.0"
  }
 },
 "nbformat": 4,
 "nbformat_minor": 2
}
